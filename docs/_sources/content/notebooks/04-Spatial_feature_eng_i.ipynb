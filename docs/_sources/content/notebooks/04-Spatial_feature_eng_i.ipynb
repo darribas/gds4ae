{
 "cells": [
  {
   "cell_type": "markdown",
   "metadata": {},
   "source": [
    "# Spatial Feature Engineering (I)"
   ]
  },
  {
   "cell_type": "markdown",
   "metadata": {},
   "source": [
    "## Map Matching"
   ]
  },
  {
   "cell_type": "markdown",
   "metadata": {},
   "source": [
    "## 📖 Ahead of time..."
   ]
  },
  {
   "cell_type": "markdown",
   "metadata": {},
   "source": [
    "Feature Engineering is a common term in machine learning that refers to the processes and transformations involved in turning data from the state in which the modeller access them into what is then fed to a model. This can take several forms, from standardisation of the input data, to the derivation of numeric scores that better describe aspects (*features*) of the data we are using. \n",
    "\n",
    "*Spatial* Feature Engineering refers to operations we can use to derive \"views\" or summaries of our data that we can use in models, *using space* as the key medium to create them.\n",
    "\n",
    "There is only one reading to complete for this block, [Chapter 12](https://geographicdata.science/book/notebooks/12_feature_engineering.html) of the GDS Book {cite}`reyABwolf`. The first block of Spatial Feature Engineering in this course loosely follows the first part of the chapter ([Map Matching](https://geographicdata.science/book/notebooks/12_feature_engineering.html#feature-engineering-using-map-matching)), so focus on this first sections for the block."
   ]
  },
  {
   "cell_type": "markdown",
   "metadata": {},
   "source": [
    "## 💻 Hands-on coding"
   ]
  },
  {
   "cell_type": "code",
   "execution_count": 3,
   "metadata": {},
   "outputs": [],
   "source": [
    "import geopandas"
   ]
  },
  {
   "cell_type": "markdown",
   "metadata": {},
   "source": [
    "```{margin} Data\n",
    "If you want to read more about the data sources behind this dataset, head to the [Datasets](../data/datasets) section\n",
    "```\n",
    "\n",
    "\n",
    "\n",
    "````{tabbed} Local files\n",
    "\n",
    "Assuming you have the file locally on the path `../data/`: \n",
    "\n",
    "```python\n",
    "regions = geopandas.read_file(\"../data/cambodia_regional.gpkg\")\n",
    "cities = geopandas.read_file(\"../data/cambodian_cities.geojson\")\n",
    "```\n",
    "````\n",
    "\n",
    "````{tabbed} Online read\n",
    "\n",
    "If you're online, you can do:\n",
    "\n",
    "```python\n",
    "regions = geopandas.read_file(\n",
    "    \"https://darribas.org/gds4ae/_downloads/9366d230310a8a68b2ce6cf2787a2f1c/cambodia_regional.gpkg\"\n",
    ")\n",
    "cities = geopandas.read_file(\n",
    "    \"https://darribas.org/gds4ae/_downloads/b2bc4ad46ffb5fcec467286c022adf14/cambodian_cities.geojson\"\n",
    "\n",
    "    )\n",
    "```\n",
    "````\n"
   ]
  },
  {
   "cell_type": "code",
   "execution_count": 7,
   "metadata": {
    "tags": [
     "remove-cell"
    ]
   },
   "outputs": [],
   "source": [
    "regions = geopandas.read_file(\"../data/cambodia_regional.gpkg\")\n",
    "cities = geopandas.read_file(\"../data/cambodian_cities.geojson\")"
   ]
  },
  {
   "cell_type": "markdown",
   "metadata": {},
   "source": [
    "Check both geo-tables are in the same CRS:"
   ]
  },
  {
   "cell_type": "code",
   "execution_count": 11,
   "metadata": {},
   "outputs": [
    {
     "data": {
      "text/plain": [
       "True"
      ]
     },
     "execution_count": 11,
     "metadata": {},
     "output_type": "execute_result"
    }
   ],
   "source": [
    "regions.crs == cities.crs"
   ]
  },
  {
   "cell_type": "markdown",
   "metadata": {},
   "source": [
    "### Points to polygons"
   ]
  },
  {
   "cell_type": "markdown",
   "metadata": {},
   "source": [
    "*In which region is a city?*"
   ]
  },
  {
   "cell_type": "code",
   "execution_count": 12,
   "metadata": {},
   "outputs": [],
   "source": [
    "sj = geopandas.sjoin(\n",
    "    cities,\n",
    "    regions\n",
    ")"
   ]
  },
  {
   "cell_type": "code",
   "execution_count": 21,
   "metadata": {},
   "outputs": [
    {
     "data": {
      "text/html": [
       "<div>\n",
       "<style scoped>\n",
       "    .dataframe tbody tr th:only-of-type {\n",
       "        vertical-align: middle;\n",
       "    }\n",
       "\n",
       "    .dataframe tbody tr th {\n",
       "        vertical-align: top;\n",
       "    }\n",
       "\n",
       "    .dataframe thead th {\n",
       "        text-align: right;\n",
       "    }\n",
       "</style>\n",
       "<table border=\"1\" class=\"dataframe\">\n",
       "  <thead>\n",
       "    <tr style=\"text-align: right;\">\n",
       "      <th></th>\n",
       "      <th>UC_NM_MN</th>\n",
       "      <th>adm2_name</th>\n",
       "    </tr>\n",
       "  </thead>\n",
       "  <tbody>\n",
       "    <tr>\n",
       "      <th>0</th>\n",
       "      <td>Sampov Lun</td>\n",
       "      <td>Sampov Lun</td>\n",
       "    </tr>\n",
       "    <tr>\n",
       "      <th>1</th>\n",
       "      <td>Khum Pech Chenda</td>\n",
       "      <td>Phnum Proek</td>\n",
       "    </tr>\n",
       "    <tr>\n",
       "      <th>2</th>\n",
       "      <td>Poipet</td>\n",
       "      <td>Paoy Paet</td>\n",
       "    </tr>\n",
       "    <tr>\n",
       "      <th>3</th>\n",
       "      <td>Sisophon</td>\n",
       "      <td>Serei Saophoan</td>\n",
       "    </tr>\n",
       "    <tr>\n",
       "      <th>4</th>\n",
       "      <td>Battambang</td>\n",
       "      <td>Battambang</td>\n",
       "    </tr>\n",
       "    <tr>\n",
       "      <th>5</th>\n",
       "      <td>Siem Reap</td>\n",
       "      <td>Siem Reap</td>\n",
       "    </tr>\n",
       "    <tr>\n",
       "      <th>6</th>\n",
       "      <td>Sihanoukville</td>\n",
       "      <td>Preah Sihanouk</td>\n",
       "    </tr>\n",
       "    <tr>\n",
       "      <th>7</th>\n",
       "      <td>N/A</td>\n",
       "      <td>Trapeang Prasat</td>\n",
       "    </tr>\n",
       "    <tr>\n",
       "      <th>8</th>\n",
       "      <td>Kampong Chhnang</td>\n",
       "      <td>Kampong Chhnang</td>\n",
       "    </tr>\n",
       "    <tr>\n",
       "      <th>9</th>\n",
       "      <td>Phnom Penh</td>\n",
       "      <td>Tuol Kouk</td>\n",
       "    </tr>\n",
       "    <tr>\n",
       "      <th>10</th>\n",
       "      <td>Kampong Cham</td>\n",
       "      <td>Kampong Cham</td>\n",
       "    </tr>\n",
       "  </tbody>\n",
       "</table>\n",
       "</div>"
      ],
      "text/plain": [
       "            UC_NM_MN        adm2_name\n",
       "0         Sampov Lun       Sampov Lun\n",
       "1   Khum Pech Chenda      Phnum Proek\n",
       "2             Poipet        Paoy Paet\n",
       "3           Sisophon   Serei Saophoan\n",
       "4         Battambang       Battambang\n",
       "5          Siem Reap        Siem Reap\n",
       "6      Sihanoukville   Preah Sihanouk\n",
       "7                N/A  Trapeang Prasat\n",
       "8    Kampong Chhnang  Kampong Chhnang\n",
       "9         Phnom Penh        Tuol Kouk\n",
       "10      Kampong Cham     Kampong Cham"
      ]
     },
     "execution_count": 21,
     "metadata": {},
     "output_type": "execute_result"
    }
   ],
   "source": [
    "#   City name | Region name\n",
    "sj[[\"UC_NM_MN\", \"adm2_name\"]]"
   ]
  },
  {
   "cell_type": "markdown",
   "metadata": {},
   "source": [
    "If we were after the number of cities per region, it is a similar approach, with a (`groupby`) twist at the end:\n",
    "\n",
    "````{margin}\n",
    "```{note}\n",
    "\n",
    "1. We `set_index` to align both tables\n",
    "1. We `assign` to create a new column\n",
    "\n",
    "If you want no missing values, you can `fillna(0)` since you *know* missing data are zeros\n",
    "```\n",
    "````"
   ]
  },
  {
   "cell_type": "code",
   "execution_count": 28,
   "metadata": {},
   "outputs": [
    {
     "name": "stdout",
     "output_type": "stream",
     "text": [
      "<class 'geopandas.geodataframe.GeoDataFrame'>\n",
      "Index: 198 entries, Mongkol Borei to Administrative unit not available\n",
      "Data columns (total 6 columns):\n",
      " #   Column      Non-Null Count  Dtype   \n",
      "---  ------      --------------  -----   \n",
      " 0   adm2_altnm  122 non-null    object  \n",
      " 1   motor_mean  198 non-null    float64 \n",
      " 2   walk_mean   198 non-null    float64 \n",
      " 3   no2_mean    198 non-null    float64 \n",
      " 4   geometry    198 non-null    geometry\n",
      " 5   city_count  11 non-null     float64 \n",
      "dtypes: float64(4), geometry(1), object(1)\n",
      "memory usage: 10.8+ KB\n"
     ]
    }
   ],
   "source": [
    "regions.set_index(\n",
    "    \"adm2_name\"\n",
    ").assign(\n",
    "    city_count=sj.groupby(\"adm2_name\").size()\n",
    ").info()"
   ]
  },
  {
   "cell_type": "markdown",
   "metadata": {},
   "source": [
    "### Polygons to points"
   ]
  },
  {
   "cell_type": "markdown",
   "metadata": {},
   "source": [
    "### Surface to points"
   ]
  },
  {
   "cell_type": "markdown",
   "metadata": {},
   "source": [
    "### Surface to polygons"
   ]
  },
  {
   "cell_type": "markdown",
   "metadata": {},
   "source": [
    "`rasterstats`"
   ]
  },
  {
   "cell_type": "markdown",
   "metadata": {},
   "source": [
    "### Points to surface"
   ]
  },
  {
   "cell_type": "markdown",
   "metadata": {},
   "source": [
    "Spatial interpolation"
   ]
  },
  {
   "cell_type": "markdown",
   "metadata": {},
   "source": [
    "### Surface to surface"
   ]
  },
  {
   "cell_type": "markdown",
   "metadata": {},
   "source": [
    "### Polygons to polygons"
   ]
  },
  {
   "cell_type": "markdown",
   "metadata": {},
   "source": [
    "## 🐾 Next steps"
   ]
  },
  {
   "cell_type": "markdown",
   "metadata": {},
   "source": [
    "If you are interested in learning more about spatial feature engineering through map matching, the following pointers might be useful to delve deeper into specific types of \"data transfer\":\n",
    "\n",
    "- The [`datashader`](https://datashader.org) library is a great option to transfer geo-tables into surfaces, providing tooling to perform these operations in a highly efficient and performant way.\n",
    "- When aggregating surfaces into geo-tables, the library [`rasterstats`](https://pythonhosted.org/rasterstats/) contains most if not all of the machinery you will need.\n",
    "- For transfers from polygon to polygon geographies, [`tobler`](https://pysal.org/tobler/) is your friend. Its official documentation contains examples for different use cases."
   ]
  }
 ],
 "metadata": {
  "kernelspec": {
   "display_name": "Python 3",
   "language": "python",
   "name": "python3"
  },
  "language_info": {
   "codemirror_mode": {
    "name": "ipython",
    "version": 3
   },
   "file_extension": ".py",
   "mimetype": "text/x-python",
   "name": "python",
   "nbconvert_exporter": "python",
   "pygments_lexer": "ipython3",
   "version": "3.7.8"
  }
 },
 "nbformat": 4,
 "nbformat_minor": 4
}
