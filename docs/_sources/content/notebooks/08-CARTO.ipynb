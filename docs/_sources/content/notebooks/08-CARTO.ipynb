{
 "cells": [
  {
   "cell_type": "markdown",
   "id": "0b7faea2-23a7-4b97-a7a0-97f2c6133ca3",
   "metadata": {},
   "source": [
    "# Web mapping with CARTO"
   ]
  },
  {
   "cell_type": "markdown",
   "id": "7f137dc3-042a-40af-8a3c-8ab451c02d25",
   "metadata": {},
   "source": [
    "## 📖 Ahead of time..."
   ]
  },
  {
   "cell_type": "markdown",
   "id": "59caee71-f3b6-467c-a5b6-341f8e6f936e",
   "metadata": {},
   "source": [
    "```{important} REQUIRED\n",
    "You will need to have a (free) account with CARTO to complete this session.\n",
    "```\n",
    "\n",
    "There are several ways of obtaining a free account. The recommended one is to sign up for [CARTO for education](https://docs.carto.com/faqs/carto-for-education). Follow the steps provided in the link, which boil down to:\n",
    "\n",
    "1. Sign up for Github (if you do not have an account already)\n",
    "1. Apply for the Github Education Pack\n",
    "1. Wait for verification and confirm. **This could take from 1h to several days**.\n",
    "1. Claim your CARTO student account\n",
    "\n",
    "```{danger} IMPORTANT\n",
    "Do _not_ sign up for a free trial, as this is limited to a couple of weeks\n",
    "```"
   ]
  },
  {
   "cell_type": "markdown",
   "id": "9973ef67-a53f-4179-afc8-8af741369481",
   "metadata": {
    "tags": []
   },
   "source": [
    "## 💻 Hands-on"
   ]
  },
  {
   "attachments": {},
   "cell_type": "markdown",
   "id": "09724d79-711c-4685-bdfe-4e35f9aed8e6",
   "metadata": {},
   "source": [
    "::::{margin}\n",
    ":::{note}\n",
    "Please refer to the lecture demo for details on how to do achieve the goals outlined in this page.\n",
    ":::\n",
    "::::\n",
    "\n",
    "In this session, we will explore the [CARTO platform](https://carto.com). This will be a whirlwind tour of some of the main things you can do within the platform, and its potential. \n",
    "\n",
    "### Data\n",
    "\n",
    ":::{margin}\n",
    "You can access the data file {download}`here <../data/cambodia_regional.gpkg>`.\n",
    ":::\n",
    "\n",
    "For this overview, we will use the dataset of [Cambodian regions](data_cam_friction_reg) we have used earlier in the course. \n",
    "\n",
    "### Workflow\n",
    "\n",
    "#### Data ingestion\n",
    "\n",
    "- Data Explorer\n",
    "- Import data (remote link)\n",
    "    - Regions\n",
    "    - Cities\n",
    "\n",
    "#### My first map\n",
    "\n",
    "- Map Vs data pages\n",
    "- Create a map\n",
    "- Parts of Builder\n",
    "    - Map view\n",
    "    - Sources\n",
    "    - Layers\n",
    "- Control tabs\n",
    "    - Layer properties\n",
    "    - Widgets\n",
    "    - Interactions\n",
    "    - Legend\n",
    "    - Basemap\n",
    "- Perspective\n",
    "\n",
    "#### Interactivity\n",
    "\n",
    "- Pan, zoom\n",
    "- Tooltips\n",
    "- Widgets\n",
    "\n",
    "#### Choropleths\n",
    "\n",
    "- Color palettes\n",
    "- Algorithms\n",
    "\n",
    "#### 3D\n",
    "\n",
    "- Enable 3D\n",
    "\n",
    "#### Publishing and sharing\n",
    "\n",
    "- Publish\n",
    "- Publish updates\n",
    "\n",
    "### Challenge\n",
    "\n",
    ":::{margin}\n",
    "You can find the [datasets](https://geographicdata.science/book/data/README.html) from the book at the bottom of the side bar. Each dataset includes a direct link to the file at the bottom of its page.\n",
    ":::\n",
    "\n",
    "Pick a dataset from the [GDS Book](https://geographicdata.science/book/) (or an alternative dataset you're familiar with) and replicate the workflow above to make a map."
   ]
  },
  {
   "cell_type": "markdown",
   "id": "81485439-c7dd-4e39-9976-c35ec3df99f0",
   "metadata": {},
   "source": [
    "## 🐾 Next steps"
   ]
  }
 ],
 "metadata": {
  "kernelspec": {
   "display_name": "GDS-10.0",
   "language": "python",
   "name": "gds"
  },
  "language_info": {
   "codemirror_mode": {
    "name": "ipython",
    "version": 3
   },
   "file_extension": ".py",
   "mimetype": "text/x-python",
   "name": "python",
   "nbconvert_exporter": "python",
   "pygments_lexer": "ipython3",
   "version": "3.9.18"
  }
 },
 "nbformat": 4,
 "nbformat_minor": 5
}
