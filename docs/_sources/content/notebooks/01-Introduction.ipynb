{
 "cells": [
  {
   "cell_type": "markdown",
   "metadata": {},
   "source": [
    "# Introduction"
   ]
  },
  {
   "cell_type": "code",
   "execution_count": 3,
   "metadata": {
    "tags": [
     "remove-cell"
    ]
   },
   "outputs": [],
   "source": [
    "from IPython.display import VimeoVideo, IFrame"
   ]
  },
  {
   "cell_type": "markdown",
   "metadata": {},
   "source": [
    "## Geographic Data Science"
   ]
  },
  {
   "cell_type": "markdown",
   "metadata": {},
   "source": [
    "```{note}\n",
    "This section is adapted from [Block A](https://darribas.org/gds_course/content/bA/concepts_A.html) of the GDS Course {cite}`darribas_gds_course`.\n",
    "```\n",
    "\n",
    "Before we learn *how* to do Geographic Data Science or even *why* you would want to do it, let's start with *what* it is. We will rely on two resources:\n",
    "\n",
    "- First, in this video, Dani Arribas-Bel covers the building blocks at the First [Spatial Data Science Conference](https://carto.com/spatial-data-conference/2017/), organised by [CARTO](https://carto.com/)"
   ]
  },
  {
   "cell_type": "code",
   "execution_count": 2,
   "metadata": {
    "collapsed": true,
    "jupyter": {
     "outputs_hidden": true
    },
    "tags": [
     "remove-input"
    ]
   },
   "outputs": [
    {
     "data": {
      "text/html": [
       "\n",
       "        <iframe\n",
       "            width=\"700\"\n",
       "            height=\"300\"\n",
       "            src=\"https://player.vimeo.com/video/250495898\"\n",
       "            frameborder=\"0\"\n",
       "            allowfullscreen\n",
       "        ></iframe>\n",
       "        "
      ],
      "text/plain": [
       "<IPython.lib.display.VimeoVideo at 0x7f140f4deaf0>"
      ]
     },
     "execution_count": 2,
     "metadata": {},
     "output_type": "execute_result"
    }
   ],
   "source": [
    "VimeoVideo(\"250495898\", width=700)"
   ]
  },
  {
   "cell_type": "markdown",
   "metadata": {},
   "source": [
    "````{sidebar} [URL](https://onlinelibrary.wiley.com/doi/full/10.1111/gean.12194)\n",
    "\n",
    "```{figure} ../figs/gds_paper.png\n",
    ":alt: GDS Paper\n",
    ":width: 200px\n",
    ":align: left\n",
    "```\n",
    "````\n",
    "\n",
    "- Second, *Geographic Data Science*, by Alex Singleton and Dani Arribas-Bel {cite}`singleton2019geographic`"
   ]
  },
  {
   "cell_type": "markdown",
   "metadata": {},
   "source": [
    "## The computational stack\n",
    "\n",
    "One of the core learning outcomes of this course is to get familiar with the modern computational environment that is used across industry and science to \"do\" Data Science. In this section, we will learn about ecosystem of concepts and tools that come together to provide the building blocks of much computational work in data science these days.\n",
    "\n",
    "```{margin}\n",
    "Source: [The Atlantic](https://www.theatlantic.com/science/archive/2018/04/the-scientific-paper-is-obsolete/556676/)\n",
    "```\n",
    "\n",
    "```{image} ../figs/atlantic.png\n",
    ":alt: The Atlantic - The Scientific Paper is Obsolete\n",
    ":class: bg-primary mb-1\n",
    ":width: 700px\n",
    ":align: center\n",
    "```\n",
    "\n",
    "\n",
    "\n",
    "\n",
    "\n",
    "- *Ten simple rules for writing and sharing computational analyses in Jupyter Notebooks*, by Adam Rule et al. {cite}`rule2019ten`\n",
    "\n",
    "```{margin}\n",
    "[URL](https://journals.plos.org/ploscompbiol/article?id=10.1371%2Fjournal.pcbi.1007007)\n",
    "```\n",
    "\n",
    "```{figure} ../figs/ten_rules.png\n",
    ":alt: Ten simple rules\n",
    ":width: 500px\n",
    ":align: center\n",
    "```\n",
    "\n",
    "\n",
    "\n",
    "\n",
    "\n",
    "- *GIS and Computational Notebooks*, by Geoff Boeing and Dani Arribas-Bel {cite}`boeing_arribasbel_2020`\n",
    "\n",
    "```{margin}\n",
    "[URL](https://gistbok.ucgis.org/bok-topics/gis-and-computational-notebooks)\n",
    "```\n",
    "\n",
    "```{figure} ../figs/gisbok.png\n",
    ":alt: GIS and notebooks\n",
    ":width: 500px\n",
    ":align: center\n",
    "```\n",
    "\n",
    "\n",
    "\n",
    "\n",
    "Now we are familiar with the conceptual pillars on top of which we will be working, let's switch gears into a more practical perspective. The following two clips cover the basics of Jupyter Lab, the frontend that glues all the pieces together, and Jupyter Notebooks, the file format, application, and protocol that allows us to record, store and share workflows.\n",
    "\n",
    "```{note}\n",
    "The clips are sourced from [Block A](https://darribas.org/gds_course/content/bA/lab_A.html) of the GDS Course {cite}`darribas_gds_course`\n",
    "```"
   ]
  },
  {
   "cell_type": "markdown",
   "metadata": {},
   "source": [
    "### Jupyter Lab"
   ]
  },
  {
   "cell_type": "code",
   "execution_count": 4,
   "metadata": {
    "tags": [
     "remove-input"
    ]
   },
   "outputs": [
    {
     "data": {
      "text/html": [
       "\n",
       "        <iframe\n",
       "            width=\"700\"\n",
       "            height=\"300\"\n",
       "            src=\"https://liverpool.instructuremedia.com/embed/bd9e43bf-9fca-4ecb-b3b1-ce5f4990a9f0\"\n",
       "            frameborder=\"0\"\n",
       "            allowfullscreen\n",
       "        ></iframe>\n",
       "        "
      ],
      "text/plain": [
       "<IPython.lib.display.IFrame at 0x7f140e6ea5e0>"
      ]
     },
     "execution_count": 4,
     "metadata": {},
     "output_type": "execute_result"
    }
   ],
   "source": [
    "IFrame(\n",
    "    \"https://liverpool.instructuremedia.com/embed/bd9e43bf-9fca-4ecb-b3b1-ce5f4990a9f0\",\n",
    "    width=700,\n",
    "    height=300\n",
    ")"
   ]
  },
  {
   "cell_type": "markdown",
   "metadata": {},
   "source": [
    "### Jupyter Notebooks"
   ]
  },
  {
   "cell_type": "code",
   "execution_count": 5,
   "metadata": {
    "tags": [
     "remove-input"
    ]
   },
   "outputs": [
    {
     "data": {
      "text/html": [
       "\n",
       "        <iframe\n",
       "            width=\"700\"\n",
       "            height=\"300\"\n",
       "            src=\"https://liverpool.instructuremedia.com/embed/6257e2a6-5af2-4fd7-9a9a-31a6818b25e2\"\n",
       "            frameborder=\"0\"\n",
       "            allowfullscreen\n",
       "        ></iframe>\n",
       "        "
      ],
      "text/plain": [
       "<IPython.lib.display.IFrame at 0x7f140e6ea9d0>"
      ]
     },
     "execution_count": 5,
     "metadata": {},
     "output_type": "execute_result"
    }
   ],
   "source": [
    "IFrame(\n",
    "    \"https://liverpool.instructuremedia.com/embed/6257e2a6-5af2-4fd7-9a9a-31a6818b25e2\",\n",
    "    width=700,\n",
    "    height=300\n",
    ")"
   ]
  }
 ],
 "metadata": {
  "kernelspec": {
   "display_name": "Python 3",
   "language": "python",
   "name": "python3"
  },
  "language_info": {
   "codemirror_mode": {
    "name": "ipython",
    "version": 3
   },
   "file_extension": ".py",
   "mimetype": "text/x-python",
   "name": "python",
   "nbconvert_exporter": "python",
   "pygments_lexer": "ipython3",
   "version": "3.8.8"
  }
 },
 "nbformat": 4,
 "nbformat_minor": 4
}
