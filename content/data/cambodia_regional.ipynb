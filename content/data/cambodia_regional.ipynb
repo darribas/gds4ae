{
 "cells": [
  {
   "cell_type": "markdown",
   "metadata": {},
   "source": [
    "# Regional aggregates for Cambodia"
   ]
  },
  {
   "cell_type": "code",
   "execution_count": 1,
   "metadata": {},
   "outputs": [],
   "source": [
    "import pandas, geopandas\n",
    "import contextily\n",
    "import xarray, rioxarray\n",
    "from rasterstats import zonal_stats"
   ]
  },
  {
   "cell_type": "markdown",
   "metadata": {},
   "source": [
    "## Boundaries\n",
    "\n",
    "```{important}\n",
    "Please see [here](data_cam_s5) for more details\n",
    "```"
   ]
  },
  {
   "cell_type": "code",
   "execution_count": 2,
   "metadata": {},
   "outputs": [
    {
     "data": {
      "text/plain": [
       "'https://geonode.wfp.org/geoserver/wfs?format_options=charset:UTF-8&typename=geonode:khm_adm2_un&outputFormat=SHAPE-ZIP&version=1.0.0&service=WFS&request=GetFeature'"
      ]
     },
     "execution_count": 2,
     "metadata": {},
     "output_type": "execute_result"
    }
   ],
   "source": [
    "url = (\n",
    "    \"https://geonode.wfp.org/geoserver/wfs\"\\\n",
    "    \"?format_options=charset:UTF-8&\"\\\n",
    "    \"typename=geonode:khm_adm2_un&\"\\\n",
    "    \"outputFormat=SHAPE-ZIP&\"\\\n",
    "    \"version=1.0.0&\"\\\n",
    "    \"service=WFS&\"\\\n",
    "    \"request=GetFeature\"\n",
    ")\n",
    "url"
   ]
  },
  {
   "cell_type": "code",
   "execution_count": 3,
   "metadata": {},
   "outputs": [],
   "source": [
    "cam = geopandas.read_file(url)"
   ]
  },
  {
   "cell_type": "code",
   "execution_count": 4,
   "metadata": {},
   "outputs": [],
   "source": [
    "bb = cam.total_bounds"
   ]
  },
  {
   "cell_type": "markdown",
   "metadata": {},
   "source": [
    "## Regional friction"
   ]
  },
  {
   "cell_type": "markdown",
   "metadata": {},
   "source": [
    "- Motorised"
   ]
  },
  {
   "cell_type": "code",
   "execution_count": 5,
   "metadata": {},
   "outputs": [],
   "source": [
    "agg_m = pandas.DataFrame(\n",
    "    zonal_stats(\n",
    "        cam,\n",
    "        \"cambodia_2020_motorized_friction_surface.tif\"\n",
    "    ),\n",
    "    index = cam.index\n",
    ")"
   ]
  },
  {
   "cell_type": "markdown",
   "metadata": {},
   "source": [
    "- Walking"
   ]
  },
  {
   "cell_type": "code",
   "execution_count": 6,
   "metadata": {},
   "outputs": [],
   "source": [
    "agg_w = pandas.DataFrame(\n",
    "    zonal_stats(\n",
    "        cam,\n",
    "        \"cambodia_2020_walking_friction_surface.tif\"\n",
    "    ),\n",
    "    index = cam.index\n",
    ")"
   ]
  },
  {
   "cell_type": "markdown",
   "metadata": {},
   "source": [
    "## Regional pollution"
   ]
  },
  {
   "cell_type": "code",
   "execution_count": 7,
   "metadata": {},
   "outputs": [],
   "source": [
    "agg_p = pandas.DataFrame(\n",
    "    zonal_stats(\n",
    "        cam,\n",
    "        \"cambodia_s5_no2.tif\",\n",
    "        all_touched = True\n",
    "    ),\n",
    "    index = cam.index\n",
    ")"
   ]
  },
  {
   "cell_type": "markdown",
   "metadata": {},
   "source": [
    "## Join together"
   ]
  },
  {
   "cell_type": "code",
   "execution_count": 8,
   "metadata": {},
   "outputs": [
    {
     "name": "stdout",
     "output_type": "stream",
     "text": [
      "<class 'geopandas.geodataframe.GeoDataFrame'>\n",
      "RangeIndex: 198 entries, 0 to 197\n",
      "Data columns (total 6 columns):\n",
      " #   Column      Non-Null Count  Dtype   \n",
      "---  ------      --------------  -----   \n",
      " 0   adm2_name   198 non-null    object  \n",
      " 1   adm2_altnm  122 non-null    object  \n",
      " 2   geometry    198 non-null    geometry\n",
      " 3   motor_mean  198 non-null    float64 \n",
      " 4   walk_mean   198 non-null    float64 \n",
      " 5   no2_mean    198 non-null    float64 \n",
      "dtypes: float64(3), geometry(1), object(2)\n",
      "memory usage: 9.4+ KB\n"
     ]
    }
   ],
   "source": [
    "db = cam[[\n",
    "    \"adm2_name\", \"adm2_altnm\", \"geometry\"\n",
    "]].join(\n",
    "    agg_m[[\"mean\"]].rename(columns={\"mean\": \"motor_mean\"})\n",
    ").join(\n",
    "    agg_w[[\"mean\"]].rename(columns={\"mean\": \"walk_mean\"})\n",
    ").join(\n",
    "    agg_p[[\"mean\"]].rename(columns={\"mean\": \"no2_mean\"})\n",
    ")\n",
    "db.info()"
   ]
  },
  {
   "cell_type": "markdown",
   "metadata": {},
   "source": [
    "## Write out"
   ]
  },
  {
   "cell_type": "code",
   "execution_count": 9,
   "metadata": {},
   "outputs": [
    {
     "name": "stdout",
     "output_type": "stream",
     "text": [
      "2.8M\tcambodia_regional.gpkg\n"
     ]
    }
   ],
   "source": [
    "out_gj = \"cambodia_regional.gpkg\"\n",
    "! rm -f $out_gj\n",
    "db.to_file(out_gj, driver=\"GPKG\")\n",
    "! du -h $out_gj"
   ]
  }
 ],
 "metadata": {
  "kernelspec": {
   "display_name": "Python 3",
   "language": "python",
   "name": "python3"
  },
  "language_info": {
   "codemirror_mode": {
    "name": "ipython",
    "version": 3
   },
   "file_extension": ".py",
   "mimetype": "text/x-python",
   "name": "python",
   "nbconvert_exporter": "python",
   "pygments_lexer": "ipython3",
   "version": "3.8.6"
  }
 },
 "nbformat": 4,
 "nbformat_minor": 4
}
