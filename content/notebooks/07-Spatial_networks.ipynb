{
 "cells": [
  {
   "cell_type": "markdown",
   "metadata": {},
   "source": [
    "# Spatial Networks"
   ]
  },
  {
   "cell_type": "markdown",
   "metadata": {},
   "source": [
    "## 📖 Ahead of time..."
   ]
  },
  {
   "cell_type": "markdown",
   "metadata": {},
   "source": [
    "```{margin}\n",
    "Thank you very much to [Martin Fleischmann](https://martinfleischmann.net/) for providing support and ideas in the development of this block\n",
    "```\n",
    "\n",
    "In this block we cover some of the analytics you can obtain when you consider street networks as spatial graphs rather than as geo-tables. \n",
    "\n",
    "- A good example of applying concepts and ideas presented in this block is Boeing (2020) {cite}`boeing2020off`\n",
    "- Boeing (2017) {cite}`boeing_osmnx_2017` provides a general overview on the `osmnx` project\n",
    "- A brief overview of `momepy`, the package for urban morphometrics, available in Fleischmann (2019) {cite}`fleischmann2019momepy`"
   ]
  },
  {
   "cell_type": "markdown",
   "metadata": {},
   "source": [
    "## 💻 Hands-on coding"
   ]
  },
  {
   "cell_type": "code",
   "execution_count": null,
   "metadata": {},
   "outputs": [],
   "source": [
    "import pandas\n",
    "import geopandas\n",
    "import momepy\n",
    "import networkx as nx\n",
    "import contextily\n",
    "import matplotlib.pyplot as plt"
   ]
  },
  {
   "cell_type": "markdown",
   "metadata": {},
   "source": [
    "````{tabbed} Local files\n",
    "\n",
    "Assuming you have the file locally on the path `../data/`: \n",
    "\n",
    "```python\n",
    "db = geopandas.read_file(\"../data/arturo_streets.gpkg\")\n",
    "```\n",
    "````\n",
    "\n",
    "````{tabbed} Online read\n",
    "\n",
    "If you're online, you can do:\n",
    "\n",
    "```python\n",
    "db = geopandas.read_file(\n",
    "    \"http://darribas.org/gds4ae/_downloads/67d5480f98453027d59bf49606a7ad92/arturo_streets.gpkg\"\n",
    ")\n",
    "```\n",
    "````\n"
   ]
  },
  {
   "cell_type": "code",
   "execution_count": null,
   "metadata": {
    "tags": [
     "remove-cell"
    ]
   },
   "outputs": [],
   "source": [
    "db = geopandas.read_file(\"../data/arturo_streets.gpkg\")"
   ]
  },
  {
   "cell_type": "markdown",
   "metadata": {},
   "source": [
    "To make things easier later, we \"explode\" the table so it is made up of `LINESTRINGS` instead of `MULTILINESTRINGS`:"
   ]
  },
  {
   "cell_type": "code",
   "execution_count": null,
   "metadata": {},
   "outputs": [],
   "source": [
    "db_tab = db.explode().reset_index()"
   ]
  },
  {
   "cell_type": "code",
   "execution_count": null,
   "metadata": {
    "tags": [
     "remove-input",
     "margin"
    ]
   },
   "outputs": [],
   "source": [
    "ax = db_tab.plot(\n",
    "    linewidth=0.05, color=\"k\", figsize=(4, 4)\n",
    ")\n",
    "ax.set_axis_off();"
   ]
  },
  {
   "cell_type": "code",
   "execution_count": null,
   "metadata": {},
   "outputs": [],
   "source": [
    "db_tab.head()"
   ]
  },
  {
   "cell_type": "markdown",
   "metadata": {},
   "source": [
    "### Analysing street geo-tables"
   ]
  },
  {
   "cell_type": "markdown",
   "metadata": {},
   "source": [
    "#### Length"
   ]
  },
  {
   "cell_type": "code",
   "execution_count": null,
   "metadata": {},
   "outputs": [],
   "source": [
    "length = db_tab.to_crs(\n",
    "    epsg=32630 # Expressed in metres\n",
    ").geometry.length\n",
    "length.head()"
   ]
  },
  {
   "cell_type": "code",
   "execution_count": null,
   "metadata": {
    "tags": [
     "hide-input"
    ]
   },
   "outputs": [],
   "source": [
    "ax = db_tab.assign(\n",
    "    length=length\n",
    ").plot(\n",
    "    \"length\", \n",
    "    scheme=\"fisherjenkssampled\", \n",
    "    k=9, \n",
    "    legend=True, \n",
    "    linewidth=0.5,\n",
    "    figsize=(12, 12),\n",
    "    cmap=\"magma\"\n",
    ")\n",
    "contextily.add_basemap(\n",
    "    ax, \n",
    "    crs=db_tab.crs, \n",
    "    source=contextily.providers.CartoDB.PositronNoLabels,\n",
    "    alpha=0.5\n",
    ")\n",
    "ax.set_title(\"Street segment length\");"
   ]
  },
  {
   "cell_type": "markdown",
   "metadata": {},
   "source": [
    "````{admonition} Challenge\n",
    "Create a quantile choropleth of length for the section of the network with `dist_barri` values starting by `01`.\n",
    "\n",
    "Bonus tip: you can create the subset of the network using the `isin` method:\n",
    "\n",
    "```%python\n",
    "ids = ['0101', '0102', '0103', '0104', '0105', '0106']\n",
    "subnet = db_tab[db_tab['dist_barri'].isin(ids)]\n",
    "```\n",
    "````"
   ]
  },
  {
   "cell_type": "markdown",
   "metadata": {},
   "source": [
    "#### Linearity"
   ]
  },
  {
   "cell_type": "code",
   "execution_count": null,
   "metadata": {},
   "outputs": [],
   "source": [
    "linearity = momepy.Linearity(db_tab).series\n",
    "linearity.head()"
   ]
  },
  {
   "cell_type": "code",
   "execution_count": null,
   "metadata": {
    "tags": [
     "hide-input"
    ]
   },
   "outputs": [],
   "source": [
    "ax = db_tab.assign(\n",
    "    linearity=linearity\n",
    ").plot(\n",
    "    \"linearity\", \n",
    "    scheme=\"fisherjenkssampled\", \n",
    "    k=9, \n",
    "    legend=True, \n",
    "    linewidth=0.5,\n",
    "    figsize=(12, 12),\n",
    "    cmap=\"magma\"\n",
    ")\n",
    "contextily.add_basemap(\n",
    "    ax, \n",
    "    crs=db_tab.crs, \n",
    "    source=contextily.providers.CartoDB.PositronNoLabels,\n",
    "    alpha=0.5\n",
    ")\n",
    "ax.set_title(\"Street segment linearity\");"
   ]
  },
  {
   "cell_type": "markdown",
   "metadata": {},
   "source": [
    "```{admonition} Challenge\n",
    "Create a choropleth of linearity for the `subnet` table you have created above\n",
    "```"
   ]
  },
  {
   "cell_type": "markdown",
   "metadata": {},
   "source": [
    "### Streets as spatial graphs"
   ]
  },
  {
   "cell_type": "markdown",
   "metadata": {},
   "source": [
    "From geo-table to spatial graph:"
   ]
  },
  {
   "cell_type": "code",
   "execution_count": null,
   "metadata": {},
   "outputs": [],
   "source": [
    "db_graph = momepy.gdf_to_nx(db_tab)\n",
    "\n",
    "db_graph"
   ]
  },
  {
   "cell_type": "markdown",
   "metadata": {},
   "source": [
    "Now `db_graph` is a different animal than `db` that emphasizes *connections* rather than attributes."
   ]
  },
  {
   "cell_type": "code",
   "execution_count": null,
   "metadata": {},
   "outputs": [],
   "source": [
    "db_graph.is_directed()"
   ]
  },
  {
   "cell_type": "code",
   "execution_count": null,
   "metadata": {},
   "outputs": [],
   "source": [
    "db_graph.is_multigraph()"
   ]
  },
  {
   "cell_type": "markdown",
   "metadata": {},
   "source": [
    "The (first and last) coordinates of each street segment become the ID for each segment in the graph:"
   ]
  },
  {
   "cell_type": "code",
   "execution_count": null,
   "metadata": {},
   "outputs": [],
   "source": [
    "print(db_tab.loc[0, \"geometry\"])"
   ]
  },
  {
   "cell_type": "code",
   "execution_count": null,
   "metadata": {},
   "outputs": [],
   "source": [
    "l = db_tab.loc[0, \"geometry\"]\n",
    "l.coords"
   ]
  },
  {
   "cell_type": "code",
   "execution_count": null,
   "metadata": {},
   "outputs": [],
   "source": [
    "node0a, node0b = edge0 = list(\n",
    "    db_tab.loc[0, \"geometry\"].coords\n",
    ")\n",
    "edge0"
   ]
  },
  {
   "cell_type": "markdown",
   "metadata": {},
   "source": [
    "We can use those to extract adjacencies to each node:"
   ]
  },
  {
   "cell_type": "code",
   "execution_count": null,
   "metadata": {},
   "outputs": [],
   "source": [
    "db_graph[node0a]"
   ]
  },
  {
   "cell_type": "markdown",
   "metadata": {},
   "source": [
    "We can access edge information for each pair of nodes with a concatenated dict query:"
   ]
  },
  {
   "cell_type": "code",
   "execution_count": null,
   "metadata": {},
   "outputs": [],
   "source": [
    "db_graph[node0a][node0b]"
   ]
  },
  {
   "cell_type": "code",
   "execution_count": null,
   "metadata": {},
   "outputs": [],
   "source": [
    "db_graph[node0a][node0b][0]"
   ]
  },
  {
   "cell_type": "code",
   "execution_count": null,
   "metadata": {},
   "outputs": [],
   "source": [
    "db_graph[node0a][node0b][0][\"geometry\"]"
   ]
  },
  {
   "cell_type": "markdown",
   "metadata": {},
   "source": [
    "If we need all the node IDs:"
   ]
  },
  {
   "cell_type": "code",
   "execution_count": null,
   "metadata": {},
   "outputs": [],
   "source": [
    "list(\n",
    "    db_graph.nodes\n",
    ")[:5] # Limit to the first five elements"
   ]
  },
  {
   "cell_type": "markdown",
   "metadata": {},
   "source": [
    "And same for edges:\n",
    "\n",
    "````{margin}\n",
    "```{note}\n",
    "`edges` returns a triplet with the origin and destination node IDs, *and* the ID of the edge, which is linked to the ID of the segment in the geo-table\n",
    "```\n",
    "````"
   ]
  },
  {
   "cell_type": "code",
   "execution_count": null,
   "metadata": {},
   "outputs": [],
   "source": [
    "list(\n",
    "    db_graph.edges\n",
    ")[:5] # Limit to the first five elements"
   ]
  },
  {
   "cell_type": "markdown",
   "metadata": {},
   "source": [
    "Or:"
   ]
  },
  {
   "cell_type": "code",
   "execution_count": null,
   "metadata": {},
   "outputs": [],
   "source": [
    "db_graph.edges[node0a, node0b, 0]"
   ]
  },
  {
   "cell_type": "markdown",
   "metadata": {},
   "source": [
    "If you want fast access to adjacencies:"
   ]
  },
  {
   "cell_type": "code",
   "execution_count": null,
   "metadata": {},
   "outputs": [],
   "source": [
    "db_graph.adj[node0a]"
   ]
  },
  {
   "cell_type": "markdown",
   "metadata": {},
   "source": [
    "```{admonition} Challenge\n",
    "Create the graph version of `subnet` and consider the street segment indexed in the table as `53271`. Check the adjacencies on both ends of the segment using `db_graph` and `subnet`. *Are they the same in both graphs? Why?*\n",
    "```"
   ]
  },
  {
   "cell_type": "markdown",
   "metadata": {},
   "source": [
    "### Analysing graphs"
   ]
  },
  {
   "cell_type": "markdown",
   "metadata": {},
   "source": [
    "There are _many_ ways to extract information and descriptives from a graph. In this section we will explore a few that can tell us important information about the position of a node or edge in the network and about the broader characteristics of sections of the graph."
   ]
  },
  {
   "cell_type": "markdown",
   "metadata": {},
   "source": [
    "#### Degree"
   ]
  },
  {
   "cell_type": "markdown",
   "metadata": {},
   "source": [
    "Degree tells us the number of neighbors of every edge, that is how many other nodes it is directly connected to."
   ]
  },
  {
   "cell_type": "code",
   "execution_count": null,
   "metadata": {
    "tags": []
   },
   "outputs": [],
   "source": [
    "degree = list(db_graph.degree)\n",
    "degree[:5]"
   ]
  },
  {
   "cell_type": "markdown",
   "metadata": {},
   "source": [
    "#### Node centrality"
   ]
  },
  {
   "cell_type": "markdown",
   "metadata": {},
   "source": [
    "Fraction of nodes a node is connected to:"
   ]
  },
  {
   "cell_type": "code",
   "execution_count": null,
   "metadata": {},
   "outputs": [],
   "source": [
    "nc = pandas.Series(\n",
    "    nx.degree_centrality(db_graph)\n",
    ")\n",
    "nc.head()"
   ]
  },
  {
   "cell_type": "code",
   "execution_count": null,
   "metadata": {},
   "outputs": [],
   "source": [
    "nc.plot.hist(bins=100, figsize=(6, 3));"
   ]
  },
  {
   "cell_type": "markdown",
   "metadata": {},
   "source": [
    "```{tip}\n",
    "Other variations of centrality measures are available in `networkx`. The are computationally demanding but relatively straightforward to calculate using the library. For a few of those, you can check:\n",
    "\n",
    "- [This `networkx` example](https://networkx.org/documentation/stable/auto_examples/algorithms/plot_krackhardt_centrality.html#sphx-glr-auto-examples-algorithms-plot-krackhardt-centrality-py)\n",
    "- [The `momepy` documentation on centrality](http://docs.momepy.org/en/stable/user_guide/graph/centrality.html#Closeness-centrality)\n",
    "```"
   ]
  },
  {
   "cell_type": "markdown",
   "metadata": {},
   "source": [
    "```{admonition} Challenge\n",
    "Create a histogram of degree for `db_graph`. Now replicate the figure for the case of `subnet`. *What can you learn about the two graphs by doing this exercise?*\n",
    "```"
   ]
  },
  {
   "cell_type": "markdown",
   "metadata": {},
   "source": [
    "#### Meshedness"
   ]
  },
  {
   "cell_type": "markdown",
   "metadata": {},
   "source": [
    "The [messedness](http://docs.momepy.org/en/stable/generated/momepy.meshedness.html#momepy.meshedness) of a graph captures the degree of node edge density as compared to that of nodes. Higher meshedness is related to denser, more inter-connected grids."
   ]
  },
  {
   "cell_type": "code",
   "execution_count": null,
   "metadata": {},
   "outputs": [],
   "source": [
    "%time meshd = momepy.meshedness(db_graph, distance=500)"
   ]
  },
  {
   "cell_type": "code",
   "execution_count": null,
   "metadata": {},
   "outputs": [],
   "source": [
    "meshd.nodes[node0a]"
   ]
  },
  {
   "cell_type": "code",
   "execution_count": null,
   "metadata": {},
   "outputs": [],
   "source": [
    "pandas.Series(\n",
    "    {i: meshd.nodes[i][\"meshedness\"] for i in meshd.nodes}\n",
    ").plot.hist(bins=100, figsize=(9, 4));"
   ]
  },
  {
   "cell_type": "markdown",
   "metadata": {},
   "source": [
    "```{admonition} Challenge\n",
    "Replicate the computation of meshedness for `sub_graph` using a threshold of 250m and 500m. How do the distributions of both compare with each other?\n",
    "```"
   ]
  },
  {
   "cell_type": "markdown",
   "metadata": {},
   "source": [
    "#### Betweenness centrality\n",
    "\n",
    "*How often do shortest-path routes pass through a given node?*\n",
    "\n",
    "This is computationally very demanding, so we will work on a subset of the full graph:"
   ]
  },
  {
   "cell_type": "code",
   "execution_count": null,
   "metadata": {},
   "outputs": [],
   "source": [
    "ids = ['0101', '0102', '0103', '0104', '0105', '0106']\n",
    "subnet = db_tab[db_tab['dist_barri'].isin(ids)]\n",
    "sub_graph = momepy.gdf_to_nx(subnet)\n",
    "node_sub = subnet.loc[53271, 'geometry'].coords[0]"
   ]
  },
  {
   "cell_type": "markdown",
   "metadata": {},
   "source": [
    "Calculating it is trivial with `momepy`:"
   ]
  },
  {
   "cell_type": "code",
   "execution_count": null,
   "metadata": {},
   "outputs": [],
   "source": [
    "%%time\n",
    "betweenness = momepy.betweenness_centrality(sub_graph)"
   ]
  },
  {
   "cell_type": "markdown",
   "metadata": {},
   "source": [
    "As with meshedness, we obtain another graph in return with the information attached to it:"
   ]
  },
  {
   "cell_type": "code",
   "execution_count": null,
   "metadata": {},
   "outputs": [],
   "source": [
    "betweenness.nodes[node_sub]"
   ]
  },
  {
   "cell_type": "markdown",
   "metadata": {},
   "source": [
    "### Attaching information to street segments\n",
    "\n"
   ]
  },
  {
   "cell_type": "markdown",
   "metadata": {},
   "source": [
    "The trick here is to be able to transfer back the information stored as graphs into geo-tables so we can apply everything we already now about manipulating and mapping data in that structure. With `momepy`, we can bring a graph back into a geo-table:"
   ]
  },
  {
   "cell_type": "code",
   "execution_count": null,
   "metadata": {},
   "outputs": [],
   "source": [
    "nodes = momepy.nx_to_gdf(\n",
    "    meshd, points=True, lines=False\n",
    ")"
   ]
  },
  {
   "cell_type": "code",
   "execution_count": null,
   "metadata": {},
   "outputs": [],
   "source": [
    "nodes.head()"
   ]
  },
  {
   "cell_type": "code",
   "execution_count": null,
   "metadata": {},
   "outputs": [],
   "source": [
    "ax = nodes.plot(\n",
    "    \"meshedness\", \n",
    "    scheme=\"fisherjenkssampled\",\n",
    "    markersize=0.1,\n",
    "    legend=True, \n",
    "    figsize=(12, 12)\n",
    ")\n",
    "contextily.add_basemap(\n",
    "    ax, \n",
    "    crs=nodes.crs,\n",
    "    source=contextily.providers.CartoDB.DarkMatterNoLabels\n",
    ")\n",
    "ax.set_title(\"Meshedness\");"
   ]
  },
  {
   "cell_type": "markdown",
   "metadata": {},
   "source": [
    "With other measures index on node IDs, we can use joining machinery in `pandas`:"
   ]
  },
  {
   "cell_type": "code",
   "execution_count": null,
   "metadata": {},
   "outputs": [],
   "source": [
    "nc.head()"
   ]
  },
  {
   "cell_type": "code",
   "execution_count": null,
   "metadata": {},
   "outputs": [],
   "source": [
    "degree_tab = pandas.DataFrame(\n",
    "    degree, columns=[\"id\", \"degree\"]\n",
    ")\n",
    "degree_tab.index = pandas.MultiIndex.from_tuples(\n",
    "    degree_tab[\"id\"]\n",
    ")\n",
    "degree_tab = degree_tab[\"degree\"]\n",
    "degree_tab.head()"
   ]
  },
  {
   "cell_type": "code",
   "execution_count": null,
   "metadata": {},
   "outputs": [],
   "source": [
    "net_stats = pandas.DataFrame(\n",
    "    {\"degree\": degree_tab, \"centrality\": nc},\n",
    ")\n",
    "net_stats.index.names = [\"x\", \"y\"]\n",
    "net_stats.head()"
   ]
  },
  {
   "cell_type": "code",
   "execution_count": null,
   "metadata": {},
   "outputs": [],
   "source": [
    "net_stats_geo = nodes.assign(\n",
    "    x=nodes.geometry.x\n",
    ").assign(\n",
    "    y=nodes.geometry.y\n",
    ").set_index(\n",
    "    [\"x\", \"y\"]\n",
    ").join(net_stats)\n",
    "\n",
    "net_stats_geo.head()"
   ]
  },
  {
   "cell_type": "code",
   "execution_count": null,
   "metadata": {
    "tags": [
     "hide-input"
    ]
   },
   "outputs": [],
   "source": [
    "f, axs = plt.subplots(1, 2, figsize=(18, 9))\n",
    "vars_to_plot = [\"degree\", \"centrality\"]\n",
    "for i in range(2):\n",
    "    net_stats_geo.plot(\n",
    "        vars_to_plot[i], \n",
    "        scheme=\"fisherjenkssampled\",\n",
    "        markersize=0.2,\n",
    "        legend=True, \n",
    "        ax=axs[i]\n",
    "    )\n",
    "    contextily.add_basemap(\n",
    "        axs[i], \n",
    "        crs=nodes.crs,\n",
    "        source=contextily.providers.CartoDB.DarkMatterNoLabels\n",
    "    )\n",
    "    axs[i].set_title(f\"Node {vars_to_plot[i]}\")"
   ]
  },
  {
   "cell_type": "markdown",
   "metadata": {},
   "source": [
    "```{admonition} Challenge\n",
    "Create choropleths for node and betweenness centrality for `sub_graph`. *How do they compare?*\n",
    "```"
   ]
  },
  {
   "cell_type": "markdown",
   "metadata": {},
   "source": [
    "## 🐾 Next steps"
   ]
  },
  {
   "cell_type": "markdown",
   "metadata": {},
   "source": [
    "If you found the content in this block useful, the following resources represent some suggestions on where to go next:\n",
    "\n",
    "- The [NetworkX tutorial](https://networkx.org/documentation/stable/tutorial.html) is a great place to get a better grasp of the data structures we use to represent (spatial) graphs\n",
    "- Parts of the block benefit from the section on [urban networks](https://github.com/gboeing/ppd599/blob/master/modules/07-urban-networks-i/lecture.ipynb) in Geoff Boeing's excellent [course on Urban Data Science](https://github.com/gboeing/ppd599)\n",
    "- If you are interested in urban morphometric analysis (the study of the shape of different elements making up cities), the [`momepy`](http://docs.momepy.org/en/stable/) library is an excellent reference to absorb, including its [user guide](http://docs.momepy.org/en/stable/user_guide/intro.html)\n"
   ]
  }
 ],
 "metadata": {
  "kernelspec": {
   "display_name": "Python 3 (ipykernel)",
   "language": "python",
   "name": "python3"
  },
  "language_info": {
   "codemirror_mode": {
    "name": "ipython",
    "version": 3
   },
   "file_extension": ".py",
   "mimetype": "text/x-python",
   "name": "python",
   "nbconvert_exporter": "python",
   "pygments_lexer": "ipython3",
   "version": "3.9.7"
  }
 },
 "nbformat": 4,
 "nbformat_minor": 4
}
