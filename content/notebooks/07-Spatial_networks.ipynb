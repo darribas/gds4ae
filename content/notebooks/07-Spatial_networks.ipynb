{
 "cells": [
  {
   "cell_type": "markdown",
   "metadata": {},
   "source": [
    "# Spatial Networks"
   ]
  },
  {
   "cell_type": "markdown",
   "metadata": {},
   "source": [
    "## 📖 Ahead of time..."
   ]
  },
  {
   "cell_type": "markdown",
   "metadata": {},
   "source": [
    "## 💻 Hands-on coding"
   ]
  },
  {
   "cell_type": "markdown",
   "metadata": {},
   "source": [
    "### Streets as spatial graphs"
   ]
  },
  {
   "cell_type": "markdown",
   "metadata": {},
   "source": [
    "### Summarising graphs"
   ]
  },
  {
   "cell_type": "markdown",
   "metadata": {},
   "source": [
    "- Node centrality"
   ]
  },
  {
   "cell_type": "markdown",
   "metadata": {},
   "source": [
    "### Attaching information to street segments\n",
    "\n",
    "- Snap Airbnb's to street and include the network measures in their table as added columns"
   ]
  },
  {
   "cell_type": "markdown",
   "metadata": {},
   "source": [
    "## 🐾 Next steps"
   ]
  },
  {
   "cell_type": "markdown",
   "metadata": {},
   "source": [
    "If you found the content in this block useful, the following resources represent some suggestions on where to go next:\n",
    "\n",
    "- Parts of the block benefit from the section on [urban networks](https://github.com/gboeing/ppd599/blob/master/modules/07-urban-networks-i/lecture.ipynb) in Geoff Boeing's excellent [course on Urban Data Science](https://github.com/gboeing/ppd599)\n",
    "- If you are interested in urban morphometric analysis (the study of the shape of different elements making up cities), the [`momepy`](http://docs.momepy.org/en/stable/) library is an excellent reference to absorb, including its [user guide](http://docs.momepy.org/en/stable/user_guide/intro.html)\n"
   ]
  }
 ],
 "metadata": {
  "kernelspec": {
   "display_name": "Python 3",
   "language": "python",
   "name": "python3"
  },
  "language_info": {
   "codemirror_mode": {
    "name": "ipython",
    "version": 3
   },
   "file_extension": ".py",
   "mimetype": "text/x-python",
   "name": "python",
   "nbconvert_exporter": "python",
   "pygments_lexer": "ipython3",
   "version": "3.8.8"
  }
 },
 "nbformat": 4,
 "nbformat_minor": 4
}
