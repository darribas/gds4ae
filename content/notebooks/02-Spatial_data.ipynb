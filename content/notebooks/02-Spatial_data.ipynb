{
 "cells": [
  {
   "cell_type": "markdown",
   "metadata": {},
   "source": [
    "# Spatial Data"
   ]
  },
  {
   "cell_type": "markdown",
   "metadata": {},
   "source": [
    "## 📖 Ahead of time..."
   ]
  },
  {
   "cell_type": "markdown",
   "metadata": {},
   "source": [
    "This block is all about understanding spatial data, both conceptually and practically. Before your fingers get on the keyboard, the following readings will help you get going and familiar with core ideas: \n",
    "\n",
    "- [Chapter 2](https://geographicdata.science/book/notebooks/02_geo_thinking.html) of the GDS Book {cite}`reyABwolf`, which provides a conceptual overview of representing Geography in data\n",
    "- [Chapter 3](https://geographicdata.science/book/notebooks/03_spatial_data.html) of the GDS Book {cite}`reyABwolf`, a sister chapter with a more applied perspective on how concepts are implemented in computer data structures\n",
    "\n",
    "Additionally, parts of this block are based and source from [Block C](https://darribas.org/gds_course/content/bC/lab_C.html) in the GDS Course {cite}`darribas_gds_course`.\n"
   ]
  },
  {
   "cell_type": "markdown",
   "metadata": {},
   "source": [
    "## 💻 Hands-on coding"
   ]
  },
  {
   "cell_type": "markdown",
   "metadata": {},
   "source": [
    "### (Geographic) tables"
   ]
  },
  {
   "cell_type": "code",
   "execution_count": 3,
   "metadata": {},
   "outputs": [],
   "source": [
    "import pandas\n",
    "import geopandas"
   ]
  },
  {
   "cell_type": "markdown",
   "metadata": {},
   "source": [
    "#### Points"
   ]
  },
  {
   "cell_type": "markdown",
   "metadata": {},
   "source": [
    "````{tabbed} Local files\n",
    "\n",
    "Assuming you have the file locally on the path `../data/`: \n",
    "\n",
    "```python\n",
    "pts = geopandas.read_file(\"../data/madrid_abb.gpkg\")\n",
    "```\n",
    "````\n",
    "\n",
    "````{tabbed} Online read\n",
    "\n",
    "If you're online, you can do:\n",
    "\n",
    "```python\n",
    "pts = geopandas.read_file(\n",
    "    \"https://github.com/GDSL-UL/san/raw/v0.1.0/data/assignment_1_madrid/madrid_abb.gpkg\"\n",
    ")\n",
    "```\n",
    "````"
   ]
  },
  {
   "cell_type": "code",
   "execution_count": 14,
   "metadata": {
    "tags": [
     "remove-cell"
    ]
   },
   "outputs": [],
   "source": [
    "pts = geopandas.read_file(\"../data/madrid_abb.gpkg\")"
   ]
  },
  {
   "cell_type": "markdown",
   "metadata": {},
   "source": [
    "````{admonition} Point geometries from columns\n",
    ":class: dropdown\n",
    "\n",
    "Sometimes, points are provided as separate columns in an otherwise non-spatial table. For example imagine we have an object `cols` which looks like:\n",
    "\n",
    "```python\n",
    "cols.head()\n",
    "```\n",
    "\n",
    "```\n",
    "          X         Y\n",
    "0  0.259602  0.854351\n",
    "1  0.661662  0.782427\n",
    "2  0.932211  0.319130\n",
    "3  0.395249  0.469885\n",
    "4  0.303446  0.008525\n",
    "```\n",
    "\n",
    "In this case, we can convert those into proper geometries by:\n",
    "\n",
    "```python\n",
    "pts = geopandas.GeoSeries(\n",
    "    geopandas.points_from_xy(cols[\"X\"], cols[\"Y\"])\n",
    ")\n",
    "```\n",
    "````"
   ]
  },
  {
   "cell_type": "code",
   "execution_count": 17,
   "metadata": {},
   "outputs": [
    {
     "name": "stdout",
     "output_type": "stream",
     "text": [
      "<class 'geopandas.geodataframe.GeoDataFrame'>\n",
      "RangeIndex: 18399 entries, 0 to 18398\n",
      "Data columns (total 16 columns):\n",
      " #   Column           Non-Null Count  Dtype   \n",
      "---  ------           --------------  -----   \n",
      " 0   price            18399 non-null  object  \n",
      " 1   price_usd        18399 non-null  float64 \n",
      " 2   log1p_price_usd  18399 non-null  float64 \n",
      " 3   accommodates     18399 non-null  int64   \n",
      " 4   bathrooms        18399 non-null  object  \n",
      " 5   bedrooms         18399 non-null  float64 \n",
      " 6   beds             18399 non-null  float64 \n",
      " 7   neighbourhood    18399 non-null  object  \n",
      " 8   room_type        18399 non-null  object  \n",
      " 9   property_type    18399 non-null  object  \n",
      " 10  WiFi             18399 non-null  object  \n",
      " 11  Coffee           18399 non-null  object  \n",
      " 12  Gym              18399 non-null  object  \n",
      " 13  Parking          18399 non-null  object  \n",
      " 14  km_to_retiro     18399 non-null  float64 \n",
      " 15  geometry         18399 non-null  geometry\n",
      "dtypes: float64(5), geometry(1), int64(1), object(9)\n",
      "memory usage: 2.2+ MB\n"
     ]
    }
   ],
   "source": [
    "pts.info()"
   ]
  },
  {
   "cell_type": "code",
   "execution_count": 16,
   "metadata": {},
   "outputs": [
    {
     "data": {
      "text/html": [
       "<div>\n",
       "<style scoped>\n",
       "    .dataframe tbody tr th:only-of-type {\n",
       "        vertical-align: middle;\n",
       "    }\n",
       "\n",
       "    .dataframe tbody tr th {\n",
       "        vertical-align: top;\n",
       "    }\n",
       "\n",
       "    .dataframe thead th {\n",
       "        text-align: right;\n",
       "    }\n",
       "</style>\n",
       "<table border=\"1\" class=\"dataframe\">\n",
       "  <thead>\n",
       "    <tr style=\"text-align: right;\">\n",
       "      <th></th>\n",
       "      <th>price</th>\n",
       "      <th>price_usd</th>\n",
       "      <th>log1p_price_usd</th>\n",
       "      <th>accommodates</th>\n",
       "      <th>bathrooms</th>\n",
       "      <th>bedrooms</th>\n",
       "      <th>beds</th>\n",
       "      <th>neighbourhood</th>\n",
       "      <th>room_type</th>\n",
       "      <th>property_type</th>\n",
       "      <th>WiFi</th>\n",
       "      <th>Coffee</th>\n",
       "      <th>Gym</th>\n",
       "      <th>Parking</th>\n",
       "      <th>km_to_retiro</th>\n",
       "      <th>geometry</th>\n",
       "    </tr>\n",
       "  </thead>\n",
       "  <tbody>\n",
       "    <tr>\n",
       "      <th>0</th>\n",
       "      <td>$60.00</td>\n",
       "      <td>60.0</td>\n",
       "      <td>4.110874</td>\n",
       "      <td>2</td>\n",
       "      <td>1 shared bath</td>\n",
       "      <td>1.0</td>\n",
       "      <td>1.0</td>\n",
       "      <td>Hispanoamérica</td>\n",
       "      <td>Private room</td>\n",
       "      <td>Private room in apartment</td>\n",
       "      <td>1</td>\n",
       "      <td>0</td>\n",
       "      <td>0</td>\n",
       "      <td>0</td>\n",
       "      <td>5.116664</td>\n",
       "      <td>POINT (-3.67688 40.45724)</td>\n",
       "    </tr>\n",
       "    <tr>\n",
       "      <th>1</th>\n",
       "      <td>$31.00</td>\n",
       "      <td>31.0</td>\n",
       "      <td>3.465736</td>\n",
       "      <td>1</td>\n",
       "      <td>1 bath</td>\n",
       "      <td>1.0</td>\n",
       "      <td>1.0</td>\n",
       "      <td>Cármenes</td>\n",
       "      <td>Private room</td>\n",
       "      <td>Private room in apartment</td>\n",
       "      <td>1</td>\n",
       "      <td>1</td>\n",
       "      <td>0</td>\n",
       "      <td>1</td>\n",
       "      <td>5.563869</td>\n",
       "      <td>POINT (-3.74084 40.40341)</td>\n",
       "    </tr>\n",
       "    <tr>\n",
       "      <th>2</th>\n",
       "      <td>$60.00</td>\n",
       "      <td>60.0</td>\n",
       "      <td>4.110874</td>\n",
       "      <td>6</td>\n",
       "      <td>2 baths</td>\n",
       "      <td>3.0</td>\n",
       "      <td>5.0</td>\n",
       "      <td>Legazpi</td>\n",
       "      <td>Entire home/apt</td>\n",
       "      <td>Entire apartment</td>\n",
       "      <td>1</td>\n",
       "      <td>1</td>\n",
       "      <td>0</td>\n",
       "      <td>1</td>\n",
       "      <td>3.048442</td>\n",
       "      <td>POINT (-3.69304 40.38695)</td>\n",
       "    </tr>\n",
       "    <tr>\n",
       "      <th>3</th>\n",
       "      <td>$115.00</td>\n",
       "      <td>115.0</td>\n",
       "      <td>4.753590</td>\n",
       "      <td>4</td>\n",
       "      <td>1.5 baths</td>\n",
       "      <td>2.0</td>\n",
       "      <td>3.0</td>\n",
       "      <td>Justicia</td>\n",
       "      <td>Entire home/apt</td>\n",
       "      <td>Entire apartment</td>\n",
       "      <td>1</td>\n",
       "      <td>1</td>\n",
       "      <td>0</td>\n",
       "      <td>1</td>\n",
       "      <td>2.075484</td>\n",
       "      <td>POINT (-3.69764 40.41995)</td>\n",
       "    </tr>\n",
       "    <tr>\n",
       "      <th>4</th>\n",
       "      <td>$26.00</td>\n",
       "      <td>26.0</td>\n",
       "      <td>3.295837</td>\n",
       "      <td>1</td>\n",
       "      <td>1 private bath</td>\n",
       "      <td>1.0</td>\n",
       "      <td>1.0</td>\n",
       "      <td>Legazpi</td>\n",
       "      <td>Private room</td>\n",
       "      <td>Private room in house</td>\n",
       "      <td>1</td>\n",
       "      <td>0</td>\n",
       "      <td>0</td>\n",
       "      <td>0</td>\n",
       "      <td>2.648058</td>\n",
       "      <td>POINT (-3.69011 40.38985)</td>\n",
       "    </tr>\n",
       "  </tbody>\n",
       "</table>\n",
       "</div>"
      ],
      "text/plain": [
       "     price  price_usd  log1p_price_usd  accommodates       bathrooms  \\\n",
       "0   $60.00       60.0         4.110874             2   1 shared bath   \n",
       "1   $31.00       31.0         3.465736             1          1 bath   \n",
       "2   $60.00       60.0         4.110874             6         2 baths   \n",
       "3  $115.00      115.0         4.753590             4       1.5 baths   \n",
       "4   $26.00       26.0         3.295837             1  1 private bath   \n",
       "\n",
       "   bedrooms  beds   neighbourhood        room_type              property_type  \\\n",
       "0       1.0   1.0  Hispanoamérica     Private room  Private room in apartment   \n",
       "1       1.0   1.0        Cármenes     Private room  Private room in apartment   \n",
       "2       3.0   5.0         Legazpi  Entire home/apt           Entire apartment   \n",
       "3       2.0   3.0        Justicia  Entire home/apt           Entire apartment   \n",
       "4       1.0   1.0         Legazpi     Private room      Private room in house   \n",
       "\n",
       "  WiFi Coffee Gym Parking  km_to_retiro                   geometry  \n",
       "0    1      0   0       0      5.116664  POINT (-3.67688 40.45724)  \n",
       "1    1      1   0       1      5.563869  POINT (-3.74084 40.40341)  \n",
       "2    1      1   0       1      3.048442  POINT (-3.69304 40.38695)  \n",
       "3    1      1   0       1      2.075484  POINT (-3.69764 40.41995)  \n",
       "4    1      0   0       0      2.648058  POINT (-3.69011 40.38985)  "
      ]
     },
     "execution_count": 16,
     "metadata": {},
     "output_type": "execute_result"
    }
   ],
   "source": [
    "pts.head()"
   ]
  },
  {
   "cell_type": "markdown",
   "metadata": {},
   "source": [
    "#### Lines"
   ]
  },
  {
   "cell_type": "markdown",
   "metadata": {},
   "source": [
    "````{tabbed} Local files\n",
    "\n",
    "Assuming you have the file locally on the path `../data/`: \n",
    "\n",
    "```python\n",
    "pts = geopandas.read_file(\"../data/arturo_streets.gpkg\")\n",
    "```\n",
    "````\n",
    "\n",
    "````{tabbed} Online read\n",
    "\n",
    "If you're online, you can do:\n",
    "\n",
    "```python\n",
    "pts = geopandas.read_file(\n",
    "    \"https://darribas.org/gds4ae/_downloads/67d5480f98453027d59bf49606a7ad92/arturo_streets.gpkg\"\n",
    ")\n",
    "```\n",
    "````"
   ]
  },
  {
   "cell_type": "code",
   "execution_count": 23,
   "metadata": {
    "tags": [
     "remove-cell"
    ]
   },
   "outputs": [],
   "source": [
    "lines = geopandas.read_file(\"../data/arturo_streets.gpkg\")"
   ]
  },
  {
   "cell_type": "code",
   "execution_count": 26,
   "metadata": {},
   "outputs": [
    {
     "name": "stdout",
     "output_type": "stream",
     "text": [
      "<class 'geopandas.geodataframe.GeoDataFrame'>\n",
      "RangeIndex: 66499 entries, 0 to 66498\n",
      "Data columns (total 7 columns):\n",
      " #   Column      Non-Null Count  Dtype   \n",
      "---  ------      --------------  -----   \n",
      " 0   OGC_FID     66499 non-null  object  \n",
      " 1   dm_id       66499 non-null  object  \n",
      " 2   dist_barri  66483 non-null  object  \n",
      " 3   X           66499 non-null  float64 \n",
      " 4   Y           66499 non-null  float64 \n",
      " 5   value       5465 non-null   float64 \n",
      " 6   geometry    66499 non-null  geometry\n",
      "dtypes: float64(3), geometry(1), object(3)\n",
      "memory usage: 3.6+ MB\n"
     ]
    }
   ],
   "source": [
    "lines.info()"
   ]
  },
  {
   "cell_type": "code",
   "execution_count": 25,
   "metadata": {},
   "outputs": [
    {
     "data": {
      "image/svg+xml": [
       "<svg xmlns=\"http://www.w3.org/2000/svg\" xmlns:xlink=\"http://www.w3.org/1999/xlink\" width=\"100.0\" height=\"100.0\" viewBox=\"444092.6309084727 4482759.184948497 82.21248661744175 99.5022298740223\" preserveAspectRatio=\"xMinYMin meet\"><g transform=\"matrix(1,0,0,-1,0,8965617.87212687)\"><g><polyline fill=\"none\" stroke=\"#66cc99\" stroke-width=\"1.9900445974804462\" points=\"444096.3161762458,4482762.870216271 444171.15812731703,4482855.001910598\" opacity=\"0.8\" /></g></g></svg>"
      ],
      "text/plain": [
       "<shapely.geometry.multilinestring.MultiLineString at 0x7f8d49cbaac0>"
      ]
     },
     "execution_count": 25,
     "metadata": {},
     "output_type": "execute_result"
    }
   ],
   "source": [
    "lines.loc[0, \"geometry\"]"
   ]
  },
  {
   "cell_type": "markdown",
   "metadata": {},
   "source": [
    "#### Polygons"
   ]
  },
  {
   "cell_type": "markdown",
   "metadata": {},
   "source": [
    "### Surfaces"
   ]
  },
  {
   "cell_type": "markdown",
   "metadata": {},
   "source": [
    "### Visualisation"
   ]
  },
  {
   "cell_type": "markdown",
   "metadata": {},
   "source": [
    "### Spatial operations"
   ]
  },
  {
   "cell_type": "markdown",
   "metadata": {},
   "source": [
    "#### (Re-)Projections"
   ]
  },
  {
   "cell_type": "markdown",
   "metadata": {},
   "source": [
    "#### Centroids"
   ]
  },
  {
   "cell_type": "markdown",
   "metadata": {},
   "source": [
    "#### Areas"
   ]
  },
  {
   "cell_type": "markdown",
   "metadata": {},
   "source": [
    "#### Distances"
   ]
  },
  {
   "cell_type": "markdown",
   "metadata": {},
   "source": [
    "## 🐾 Next steps"
   ]
  }
 ],
 "metadata": {
  "kernelspec": {
   "display_name": "Python 3",
   "language": "python",
   "name": "python3"
  },
  "language_info": {
   "codemirror_mode": {
    "name": "ipython",
    "version": 3
   },
   "file_extension": ".py",
   "mimetype": "text/x-python",
   "name": "python",
   "nbconvert_exporter": "python",
   "pygments_lexer": "ipython3",
   "version": "3.8.6"
  }
 },
 "nbformat": 4,
 "nbformat_minor": 4
}
